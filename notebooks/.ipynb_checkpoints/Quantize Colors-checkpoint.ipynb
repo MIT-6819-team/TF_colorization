{
 "cells": [
  {
   "cell_type": "code",
   "execution_count": 3,
   "metadata": {
    "collapsed": true
   },
   "outputs": [],
   "source": [
    "root = '/data/vision/torralba/health-habits/other/enes/'\n",
    "\n",
    "%matplotlib inline\n",
    "import matplotlib.pyplot as plt\n",
    "\n",
    "import os\n",
    "import sys\n",
    "import random\n",
    "import json\n",
    "import collections\n",
    "import math\n",
    "import fnmatch\n",
    "import os\n",
    "import scipy.misc\n",
    "sys.path.append( root + 'Utils/')\n",
    "\n",
    "import pandas as pd\n",
    "import numpy as np\n",
    "import tensorflow as tf\n",
    "\n",
    "from PIL import Image\n",
    "from IPython.display import display\n",
    "from pprint import pprint\n",
    "from notebook_utils import *\n",
    "from skimage import color, io"
   ]
  },
  {
   "cell_type": "code",
   "execution_count": null,
   "metadata": {
    "collapsed": true
   },
   "outputs": [],
   "source": [
    "def precompute_distributions():\n",
    "  for a in range(-120, 120):\n",
    "    for b in range(-120, 120):\n",
    "      ab = (a, b)\n",
    "      qab = (round(a/10)*10, round(b/10)*10)"
   ]
  },
  {
   "cell_type": "code",
   "execution_count": 6,
   "metadata": {
    "collapsed": false
   },
   "outputs": [
    {
     "name": "stdout",
     "output_type": "stream",
     "text": [
      "(64, 64, 313, 2)\n"
     ]
    },
    {
     "ename": "ValueError",
     "evalue": "operands could not be broadcast together with shapes (64,64,2) (4096,4096,313,2) ",
     "output_type": "error",
     "traceback": [
      "\u001b[0;31m---------------------------------------------------------------------------\u001b[0m",
      "\u001b[0;31mValueError\u001b[0m                                Traceback (most recent call last)",
      "\u001b[0;32m<ipython-input-6-0f5c74ca971f>\u001b[0m in \u001b[0;36m<module>\u001b[0;34m()\u001b[0m\n\u001b[1;32m     20\u001b[0m   \u001b[0;32mreturn\u001b[0m \u001b[0mimage\u001b[0m\u001b[0;34m,\u001b[0m \u001b[0moutput\u001b[0m\u001b[0;34m\u001b[0m\u001b[0m\n\u001b[1;32m     21\u001b[0m \u001b[0;34m\u001b[0m\u001b[0m\n\u001b[0;32m---> 22\u001b[0;31m \u001b[0mget_data\u001b[0m\u001b[0;34m(\u001b[0m\u001b[0;34m\"/data/vision/torralba/yusuf/imagenet/data/images/train256/n03447447/n03447447_8414.JPEG\"\u001b[0m\u001b[0;34m)\u001b[0m\u001b[0;34m\u001b[0m\u001b[0m\n\u001b[0m",
      "\u001b[0;32m<ipython-input-6-0f5c74ca971f>\u001b[0m in \u001b[0;36mget_data\u001b[0;34m(path)\u001b[0m\n\u001b[1;32m     10\u001b[0m   \u001b[0;32mprint\u001b[0m \u001b[0mquantized_array\u001b[0m\u001b[0;34m.\u001b[0m\u001b[0mshape\u001b[0m\u001b[0;34m\u001b[0m\u001b[0m\n\u001b[1;32m     11\u001b[0m   \u001b[0mbig_quantized\u001b[0m \u001b[0;34m=\u001b[0m \u001b[0mnp\u001b[0m\u001b[0;34m.\u001b[0m\u001b[0mtile\u001b[0m\u001b[0;34m(\u001b[0m \u001b[0mquantized_array\u001b[0m\u001b[0;34m,\u001b[0m \u001b[0;34m(\u001b[0m\u001b[0;36m64\u001b[0m\u001b[0;34m,\u001b[0m\u001b[0;36m64\u001b[0m\u001b[0;34m,\u001b[0m\u001b[0;36m1\u001b[0m\u001b[0;34m,\u001b[0m\u001b[0;36m1\u001b[0m\u001b[0;34m)\u001b[0m\u001b[0;34m)\u001b[0m\u001b[0;34m\u001b[0m\u001b[0m\n\u001b[0;32m---> 12\u001b[0;31m   \u001b[0mdistances\u001b[0m \u001b[0;34m=\u001b[0m \u001b[0mnp\u001b[0m\u001b[0;34m.\u001b[0m\u001b[0mlinalg\u001b[0m\u001b[0;34m.\u001b[0m\u001b[0mnorm\u001b[0m\u001b[0;34m(\u001b[0m\u001b[0mcolors\u001b[0m \u001b[0;34m-\u001b[0m \u001b[0mbig_quantized\u001b[0m\u001b[0;34m,\u001b[0m \u001b[0maxis\u001b[0m \u001b[0;34m=\u001b[0m \u001b[0;36m3\u001b[0m\u001b[0;34m)\u001b[0m\u001b[0;34m\u001b[0m\u001b[0m\n\u001b[0m\u001b[1;32m     13\u001b[0m   \u001b[0md\u001b[0m \u001b[0;34m=\u001b[0m \u001b[0mdistances\u001b[0m\u001b[0;34m.\u001b[0m\u001b[0mcopy\u001b[0m\u001b[0;34m(\u001b[0m\u001b[0;34m)\u001b[0m\u001b[0;34m\u001b[0m\u001b[0m\n\u001b[1;32m     14\u001b[0m   \u001b[0md\u001b[0m\u001b[0;34m.\u001b[0m\u001b[0msort\u001b[0m\u001b[0;34m(\u001b[0m\u001b[0maxis\u001b[0m \u001b[0;34m=\u001b[0m \u001b[0;36m2\u001b[0m\u001b[0;34m)\u001b[0m\u001b[0;34m\u001b[0m\u001b[0m\n",
      "\u001b[0;31mValueError\u001b[0m: operands could not be broadcast together with shapes (64,64,2) (4096,4096,313,2) "
     ]
    }
   ],
   "source": [
    "def get_data(path):\n",
    "  img = io.imread(path)\n",
    "  img = color.rgb2lab(img)\n",
    "  assert img.shape == (256,256,3)\n",
    "\n",
    "  image = img[:,:,0:1]\n",
    "  img = scipy.misc.imresize(img, (64,64))\n",
    "  colors = img[:,:,1:3]\n",
    "  quantized_array = np.tile( colors.reshape((64,64,1,2)), (1,1,313,1))\n",
    "  print quantized_array.shape\n",
    "  big_quantized = np.tile( quantized_array, (64,64,1,1))\n",
    "  distances = np.linalg.norm(colors - big_quantized, axis = 3)\n",
    "  d = distances.copy()\n",
    "  d.sort(axis = 2)\n",
    "  low_values = (distances > np.tile( d[:,:,4:5], (1,1,313) ))\n",
    "  gaussian_distances = gaussian(distances, 5)\n",
    "  gaussian_distances[low_values] = 0\n",
    "  output = gaussian_distances / np.sum(gaussian_distances, axis = 2).reshape((64,64,1))\n",
    "  \n",
    "  return image, output\n",
    "\n",
    "get_data(\"/data/vision/torralba/yusuf/imagenet/data/images/train256/n03447447/n03447447_8414.JPEG\")"
   ]
  }
 ],
 "metadata": {
  "kernelspec": {
   "display_name": "Python 2",
   "language": "python",
   "name": "python2"
  },
  "language_info": {
   "codemirror_mode": {
    "name": "ipython",
    "version": 2
   },
   "file_extension": ".py",
   "mimetype": "text/x-python",
   "name": "python",
   "nbconvert_exporter": "python",
   "pygments_lexer": "ipython2",
   "version": "2.7.6"
  }
 },
 "nbformat": 4,
 "nbformat_minor": 1
}

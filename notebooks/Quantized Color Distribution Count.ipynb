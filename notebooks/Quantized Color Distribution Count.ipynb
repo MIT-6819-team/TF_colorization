{
 "cells": [
  {
   "cell_type": "code",
   "execution_count": 53,
   "metadata": {
    "collapsed": true
   },
   "outputs": [],
   "source": [
    "root = '/data/vision/torralba/health-habits/other/enes/'\n",
    "\n",
    "%matplotlib inline\n",
    "import matplotlib.pyplot as plt\n",
    "\n",
    "import os\n",
    "import sys\n",
    "import random\n",
    "import json\n",
    "import collections\n",
    "import math\n",
    "import fnmatch\n",
    "import os\n",
    "import scipy.misc\n",
    "sys.path.append( root + 'Utils/')\n",
    "\n",
    "import pandas as pd\n",
    "import numpy as np\n",
    "import tensorflow as tf\n",
    "\n",
    "from PIL import Image\n",
    "from IPython.display import display\n",
    "from pprint import pprint\n",
    "from notebook_utils import *\n",
    "from skimage import color, io"
   ]
  },
  {
   "cell_type": "code",
   "execution_count": 117,
   "metadata": {
    "collapsed": false
   },
   "outputs": [],
   "source": [
    "quantized_regions = np.load('pts_in_hull.npy')"
   ]
  },
  {
   "cell_type": "code",
   "execution_count": 150,
   "metadata": {
    "collapsed": false
   },
   "outputs": [],
   "source": [
    "QUANITZATION_SIZE=10\n",
    "\n",
    "counts = collections.Counter()\n",
    "greyscale = 0\n",
    "\n",
    "def get_data(path):\n",
    "  global counts, greyscale\n",
    "  raw_image = io.imread(path)\n",
    "  if raw_image.shape == (256,256,3):\n",
    "    img = color.rgb2lab(raw_image)\n",
    "\n",
    "    image = img[:,:,1:3]\n",
    "    quantized_image = np.floor(image/10)*10\n",
    "    \n",
    "    for i, region in enumerate(quantized_regions):\n",
    "      counts[i]+= np.count_nonzero(quantized_image == region)\n",
    "  else:\n",
    "    greyscale += 1\n",
    "    \n",
    "get_data(\"/data/vision/torralba/yusuf/imagenet/data/images/train256/n03447447/n03447447_8414.JPEG\")"
   ]
  },
  {
   "cell_type": "code",
   "execution_count": null,
   "metadata": {
    "collapsed": false
   },
   "outputs": [
    {
     "name": "stdout",
     "output_type": "stream",
     "text": [
      "0\n",
      "1000\n",
      "2000\n",
      "3000\n",
      "4000\n",
      "5000\n",
      "6000\n",
      "7000\n",
      "8000\n",
      "9000\n",
      "10000\n",
      "17000\n",
      "18000\n",
      "19000\n",
      "20000\n",
      "21000\n",
      "22000\n",
      "23000\n",
      "24000\n",
      "25000\n",
      "26000\n",
      "27000\n",
      "28000\n",
      "29000\n",
      "45000\n",
      "46000\n",
      "47000\n",
      "48000\n",
      "49000\n",
      "50000\n",
      "51000\n",
      "52000\n",
      "53000\n",
      "54000\n",
      "55000\n",
      "56000\n",
      "82000\n",
      "83000\n",
      "84000\n",
      "85000\n",
      "86000\n",
      "87000\n",
      "88000\n",
      "89000\n",
      "90000\n",
      "91000\n",
      "92000\n",
      "93000\n",
      "94000\n",
      "95000\n",
      "96000\n",
      "97000\n",
      "98000\n",
      "99000\n",
      "100000\n",
      "101000\n",
      "102000\n",
      "103000\n",
      "104000\n",
      "105000\n",
      "106000\n",
      "107000\n",
      "109000\n",
      "110000\n",
      "111000\n",
      "112000\n",
      "113000\n",
      "114000\n",
      "115000\n",
      "116000\n",
      "117000\n",
      "118000\n",
      "119000\n",
      "120000\n"
     ]
    }
   ],
   "source": [
    "with open('all_paths.txt') as f:\n",
    "  for i, path in enumerate(f):\n",
    "    get_data(path.strip('\\n'))\n",
    "    if i%1000 == 0:\n",
    "      print i\n",
    "      \n",
    "quantized_counts_as_array = list(counts.values())\n",
    "np.save('quantized_counts.npy', quantized_counts_as_array)\n",
    "print quantized_counts_as_array"
   ]
  },
  {
   "cell_type": "code",
   "execution_count": 141,
   "metadata": {
    "collapsed": false
   },
   "outputs": [
    {
     "name": "stdout",
     "output_type": "stream",
     "text": [
      "False\n",
      "0\n",
      "0\n"
     ]
    }
   ],
   "source": [
    "a = [[[0, 10], [0, 10], [1, 10]]]\n",
    "print a == [0, 10]\n",
    "print np.count_nonzero(a == [0, 10])\n",
    "print np.count_nonzero(a == [1, 10])"
   ]
  }
 ],
 "metadata": {
  "kernelspec": {
   "display_name": "Python 2",
   "language": "python",
   "name": "python2"
  },
  "language_info": {
   "codemirror_mode": {
    "name": "ipython",
    "version": 2
   },
   "file_extension": ".py",
   "mimetype": "text/x-python",
   "name": "python",
   "nbconvert_exporter": "python",
   "pygments_lexer": "ipython2",
   "version": "2.7.6"
  }
 },
 "nbformat": 4,
 "nbformat_minor": 1
}

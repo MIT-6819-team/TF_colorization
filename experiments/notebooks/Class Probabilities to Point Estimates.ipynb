{
 "cells": [
  {
   "cell_type": "code",
   "execution_count": 144,
   "metadata": {
    "collapsed": true
   },
   "outputs": [],
   "source": [
    "root = '/data/vision/torralba/health-habits/other/enes/'\n",
    "\n",
    "%matplotlib inline\n",
    "import matplotlib.pyplot as plt\n",
    "\n",
    "import os\n",
    "import sys\n",
    "import random\n",
    "import json\n",
    "import math\n",
    "import time\n",
    "import fnmatch\n",
    "import os\n",
    "import scipy.misc\n",
    "sys.path.append( root + 'Utils/')\n",
    "\n",
    "import pandas as pd\n",
    "import numpy as np\n",
    "import tensorflow as tf\n",
    "\n",
    "from PIL import Image\n",
    "from IPython.display import display\n",
    "from pprint import pprint\n",
    "from notebook_utils import *\n",
    "from skimage import color, io"
   ]
  },
  {
   "cell_type": "code",
   "execution_count": 2,
   "metadata": {
    "collapsed": false
   },
   "outputs": [
    {
     "name": "stdout",
     "output_type": "stream",
     "text": [
      "1281146\n"
     ]
    }
   ],
   "source": [
    "with open('all_paths.txt') as f:\n",
    "  all_paths = [line.rstrip('\\n') for line in f.readlines()]\n",
    "print len(all_paths)"
   ]
  },
  {
   "cell_type": "code",
   "execution_count": 4,
   "metadata": {
    "collapsed": true
   },
   "outputs": [],
   "source": [
    "def gaussian( x, var ):\n",
    "  return np.exp( -(x**2) / (2 * var**2))"
   ]
  },
  {
   "cell_type": "code",
   "execution_count": 132,
   "metadata": {
    "collapsed": false
   },
   "outputs": [],
   "source": [
    "quantized_array = np.load('pts_in_hull.npy')"
   ]
  },
  {
   "cell_type": "code",
   "execution_count": 227,
   "metadata": {
    "collapsed": false
   },
   "outputs": [],
   "source": [
    "def get_data_new(path):\n",
    "  lt = time.time()\n",
    "  img = io.imread(path)\n",
    "  \n",
    "  resized_img = scipy.misc.imresize(img, (64,64))\n",
    "  \n",
    "  img = color.rgb2lab(img)\n",
    "  assert img.shape == (256,256,3)\n",
    "\n",
    "  image = img[:,:,0:1]\n",
    "  img = color.rgb2lab(resized_img)\n",
    "  colors = img[:,:,1:3]\n",
    "  \n",
    "  colors = np.tile( colors.reshape((64,64,1,2)), (1,1,313,1))\n",
    "  \n",
    "  big_quantized = np.tile( quantized_array, (64,64,1,1))\n",
    "  \n",
    "  distances = np.linalg.norm(colors - big_quantized, axis = 3)\n",
    "  \n",
    "  d = distances.copy()\n",
    "  \n",
    "  d.sort(axis = 2)\n",
    "  \n",
    "  low_values = (distances > np.tile( d[:,:,4:5], (1,1,313) ))\n",
    "  \n",
    "  gaussian_distances = gaussian(distances, 5)\n",
    "  gaussian_distances[low_values] = 0\n",
    "  output = gaussian_distances / np.sum(gaussian_distances, axis = 2).reshape((64,64,1))\n",
    "  \n",
    "  return image, output"
   ]
  },
  {
   "cell_type": "code",
   "execution_count": 228,
   "metadata": {
    "collapsed": false
   },
   "outputs": [],
   "source": [
    "image,output = get_data_new( all_paths[0] )"
   ]
  },
  {
   "cell_type": "code",
   "execution_count": 229,
   "metadata": {
    "collapsed": false
   },
   "outputs": [
    {
     "data": {
      "text/plain": [
       "(64, 64)"
      ]
     },
     "execution_count": 229,
     "metadata": {},
     "output_type": "execute_result"
    }
   ],
   "source": [
    "one_hot = np.argmax( output, axis = 2 )\n",
    "one_hot.shape"
   ]
  },
  {
   "cell_type": "code",
   "execution_count": 230,
   "metadata": {
    "collapsed": false
   },
   "outputs": [
    {
     "data": {
      "text/plain": [
       "139"
      ]
     },
     "execution_count": 230,
     "metadata": {},
     "output_type": "execute_result"
    }
   ],
   "source": [
    "one_hot[0,0]"
   ]
  },
  {
   "cell_type": "code",
   "execution_count": 231,
   "metadata": {
    "collapsed": false
   },
   "outputs": [],
   "source": [
    "colorized = np.zeros( (64, 64, 3) )\n",
    "colorized[:,:,0] = scipy.misc.imresize( image.reshape((256,256)), (64,64) ) / (255. / 100) "
   ]
  },
  {
   "cell_type": "code",
   "execution_count": 232,
   "metadata": {
    "collapsed": true
   },
   "outputs": [],
   "source": [
    "for i in range(64): \n",
    "  for j in range(64):\n",
    "    colorized[i,j,1:3] = quantized_array[ one_hot[i,j] ]"
   ]
  },
  {
   "cell_type": "code",
   "execution_count": 233,
   "metadata": {
    "collapsed": false
   },
   "outputs": [
    {
     "data": {
      "text/plain": [
       "array([10,  0])"
      ]
     },
     "execution_count": 233,
     "metadata": {},
     "output_type": "execute_result"
    }
   ],
   "source": [
    "quantized_array[ one_hot[0,0] ]"
   ]
  },
  {
   "cell_type": "code",
   "execution_count": 234,
   "metadata": {
    "collapsed": false
   },
   "outputs": [
    {
     "data": {
      "image/png": "[encoded data removed]",
      "text/plain": [
       "<PIL.Image.Image image mode=RGB size=64x64 at 0x7F20B1F6E150>"
      ]
     },
     "execution_count": 234,
     "metadata": {},
     "output_type": "execute_result"
    }
   ],
   "source": [
    "Image.fromarray( (255 * color.lab2rgb(colorized)).astype(np.uint8) )"
   ]
  },
  {
   "cell_type": "code",
   "execution_count": 235,
   "metadata": {
    "collapsed": true
   },
   "outputs": [],
   "source": [
    "def get_data_new(path):\n",
    "  lt = time.time()\n",
    "  img = io.imread(path)\n",
    "  \n",
    "  print \"A0\", (time.time() - lt)\n",
    "  lt = time.time()\n",
    "  \n",
    "  resized_img = scipy.misc.imresize(img, (64,64))\n",
    "  \n",
    "  print \"A1\", (time.time() - lt)\n",
    "  lt = time.time()\n",
    "  \n",
    "  img = color.rgb2lab(img)\n",
    "  assert img.shape == (256,256,3)\n",
    "\n",
    "  print \"A2\", (time.time() - lt)\n",
    "  lt = time.time()\n",
    "    \n",
    "  image = img[:,:,0:1]\n",
    "  img = color.rgb2lab(resized_img)\n",
    "  colors = img[:,:,1:3]\n",
    "  \n",
    "  print \"B\", (time.time() - lt)\n",
    "  lt = time.time()\n",
    "  \n",
    "  colors = np.tile( colors.reshape((64,64,1,2)), (1,1,313,1))\n",
    "  \n",
    "  print \"C\", (time.time() - lt)\n",
    "  lt = time.time()\n",
    "  \n",
    "  big_quantized = np.tile( quantized_array, (64,64,1,1))\n",
    "  \n",
    "  print \"D\", (time.time() - lt)\n",
    "  lt = time.time()\n",
    "  \n",
    "  aaa = colors - big_quantized\n",
    "  \n",
    "  print \"E-1\", (time.time() - lt)\n",
    "  lt = time.time()\n",
    "  \n",
    "  aaaa = np.square(aaa)\n",
    "  \n",
    "  print \"E0\", (time.time() - lt)\n",
    "  lt = time.time()\n",
    "  \n",
    "  distances = np.sum(aaaa, axis=3)\n",
    "  \n",
    "  print \"E1\", (time.time() - lt)\n",
    "  lt = time.time()\n",
    "  \n",
    "  d = distances.copy()\n",
    "  \n",
    "  print \"E2\", (time.time() - lt)\n",
    "  lt = time.time()\n",
    "  \n",
    "  for i in range(5):\n",
    "    if i == 4:\n",
    "      distance_cap = np.min(d, axis=2)\n",
    "    else:\n",
    "      \n",
    "      print \"EP\", (time.time() - lt)\n",
    "      lt = time.time()\n",
    "      \n",
    "      v = np.argmin(d, axis=2)\n",
    "      \n",
    "      print \"EZ\", (time.time() - lt)\n",
    "      lt = time.time()\n",
    "      \n",
    "      d[:,:,v] = 0\n",
    "      \n",
    "      print \"EK\", (time.time() - lt)\n",
    "      lt = time.time()\n",
    "\n",
    "  \n",
    "  print \"E3\", (time.time() - lt)\n",
    "  lt = time.time()\n",
    "  \n",
    "  print distance_cap.shape\n",
    "  \n",
    "  low_values = (distances > np.tile( distance_cap.reshape((64, 64, 1)), (1,1,313) ))#d[:,:,4:5]\n",
    "  \n",
    "  print \"E4\", (time.time() - lt)\n",
    "  lt = time.time()\n",
    "  \n",
    "  gaussian_distances = gaussian(distances, 5)\n",
    "  \n",
    "  print \"F1\", (time.time() - lt)\n",
    "  lt = time.time()\n",
    "  \n",
    "  gaussian_distances[low_values] = 0\n",
    "  \n",
    "  print \"F2\", (time.time() - lt)\n",
    "  lt = time.time()\n",
    "  \n",
    "  output = gaussian_distances / np.sum(gaussian_distances, axis = 2).reshape((64,64,1))\n",
    "  \n",
    "  print \"F3\", (time.time() - lt)\n",
    "  lt = time.time()\n",
    "  \n",
    "  return image, output"
   ]
  },
  {
   "cell_type": "code",
   "execution_count": null,
   "metadata": {
    "collapsed": true
   },
   "outputs": [],
   "source": []
  }
 ],
 "metadata": {
  "kernelspec": {
   "display_name": "Python 2",
   "language": "python",
   "name": "python2"
  },
  "language_info": {
   "codemirror_mode": {
    "name": "ipython",
    "version": 2
   },
   "file_extension": ".py",
   "mimetype": "text/x-python",
   "name": "python",
   "nbconvert_exporter": "python",
   "pygments_lexer": "ipython2",
   "version": "2.7.6"
  }
 },
 "nbformat": 4,
 "nbformat_minor": 1
}

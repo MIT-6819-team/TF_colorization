{
 "cells": [
  {
   "cell_type": "code",
   "execution_count": null,
   "metadata": {
    "collapsed": false
   },
   "outputs": [
    {
     "name": "stdout",
     "output_type": "stream",
     "text": [
      "(0, 0.0)\n",
      "(1000, 0.15611035440953208)\n",
      "(2000, 0.31222070881906416)\n",
      "(3000, 0.46833106322859624)\n",
      "(4000, 0.6244414176381283)\n",
      "(5000, 0.7805517720476605)\n",
      "(6000, 0.9366621264571925)\n"
     ]
    }
   ],
   "source": [
    "import ujson, gzip\n",
    "import collections\n",
    "import random\n",
    "import io\n",
    "import math\n",
    "import numpy as np\n",
    "import tensorflow as tf\n",
    "from skimage import color, io\n",
    "\n",
    "# Parameters from the paper\n",
    "LAMBDA = 0.5\n",
    "SIGMA = 5\n",
    "\n",
    "# Parameters for loading\n",
    "PERCENT_DATASET_TO_CHECK = 0.005\n",
    "QUANITZATION_SIZE = 10\n",
    "SATURATION_LIMIT = .1\n",
    "DATASET_ROOT = '/root/persistant_data/datasets/imagenet/train256/'\n",
    "\n",
    "quantized_regions = np.load('../network/pts_in_hull.npy')\n",
    "\n",
    "counts = collections.Counter()\n",
    "greyscale = 0\n",
    "\n",
    "def get_data(path):\n",
    "    global counts, greyscale\n",
    "    raw_image = io.imread(path)\n",
    "    assert raw_image.shape == (256,256,3)\n",
    "\n",
    "    img = color.rgb2lab(raw_image)\n",
    "\n",
    "    image = img[:,:,1:3]\n",
    "    quantized_image = np.round(image/10)*10\n",
    "\n",
    "    for i, region in enumerate(quantized_regions):\n",
    "        counts[i]+= np.count_nonzero(quantized_image == region)\n",
    "\n",
    "def compute_counts():\n",
    "    f = gzip.open('../dataset_indexes/imagenet_train_256_saturation_values.json.gz', 'rt')\n",
    "    files = ujson.load(f)\n",
    "    random_files = files.keys()\n",
    "    random.shuffle(random_files)\n",
    "\n",
    "    for i, path in enumerate(random_files):\n",
    "        if files[path] >= SATURATION_LIMIT:\n",
    "            get_data(DATASET_ROOT + path.strip('\\n'))\n",
    "\n",
    "        if i%1000 == 0:\n",
    "            print (i, i/float( len(files) * PERCENT_DATASET_TO_CHECK))\n",
    "\n",
    "        if i >= len(files) * PERCENT_DATASET_TO_CHECK:\n",
    "            break\n",
    "\n",
    "    reweighted_counts = _apply_reweighting()\n",
    "    quantized_counts_as_array = list(reweighted_counts)\n",
    "    np.save('reweighting_vector.npy', quantized_counts_as_array)\n",
    "    \n",
    "def _gaussian(x):\n",
    "    return 1 if x == 0 else 0\n",
    "#     return np.exp(-(x**2) / (2. * SIGMA**2))\n",
    "\n",
    "def _apply_reweighting():\n",
    "    counts_array = [counts[i] for i in xrange(313)]\n",
    "    \n",
    "    blurred_counts = [1] * 313\n",
    "    for i in xrange(313):\n",
    "        for j in xrange(313):\n",
    "            blurred_counts[j] += _gaussian(_distance_of_indicies(i,j)) * counts_array[i]\n",
    "    blurred_counts = [blurred_counts[i] / float(sum(blurred_counts)) for i in range(313)]\n",
    "    \n",
    "    combined_counts = [ 1. / ((1 - LAMBDA) * blurred_counts[i] + LAMBDA / 313.) for i in xrange(313)]\n",
    "    combined_counts = [combined_counts[i] / sum(combined_counts) for i in range(313)]\n",
    "\n",
    "    return combined_counts\n",
    "\n",
    "def _distance_of_indicies(i, j):\n",
    "    a = quantized_regions[i]\n",
    "    b = quantized_regions[j]\n",
    "    return math.sqrt((a[0] - b[0]) ** 2 + (a[1] - b[1]) ** 2)\n",
    "\n",
    "compute_counts()\n"
   ]
  },
  {
   "cell_type": "code",
   "execution_count": null,
   "metadata": {
    "collapsed": true
   },
   "outputs": [],
   "source": []
  }
 ],
 "metadata": {
  "kernelspec": {
   "display_name": "Python 2",
   "language": "python",
   "name": "python2"
  },
  "language_info": {
   "codemirror_mode": {
    "name": "ipython",
    "version": 2
   },
   "file_extension": ".py",
   "mimetype": "text/x-python",
   "name": "python",
   "nbconvert_exporter": "python",
   "pygments_lexer": "ipython2",
   "version": "2.7.6"
  }
 },
 "nbformat": 4,
 "nbformat_minor": 2
}
